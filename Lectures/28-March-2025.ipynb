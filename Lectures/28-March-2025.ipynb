{
 "cells": [
  {
   "cell_type": "code",
   "execution_count": null,
   "metadata": {
    "collapsed": true,
    "jupyter": {
     "outputs_hidden": true,
     "source_hidden": true
    }
   },
   "outputs": [
    {
     "name": "stdout",
     "output_type": "stream",
     "text": [
      "Your guess is a little too less, try a little bigger\n",
      "Your guess is a little too less, try a little bigger\n",
      "Your guess is a little too less, try a little bigger\n",
      "Your guess is a little too higher, go a little less\n",
      "Your guess is a little too less, try a little bigger\n",
      "Your guess is a little too higher, go a little less\n",
      "Your guess is a little too higher, go a little less\n",
      "Your guess is a little too higher, go a little less\n",
      "Your guess is a little too higher, go a little less\n",
      "Your guess is a little too higher, go a little less\n"
     ]
    }
   ],
   "source": [
    "# Game: Guess the number (Using while loop)\n",
    "\n",
    "import random\n",
    "\n",
    "\n",
    "lower_limit = int(input(\"Enter the lower limit\"))\n",
    "upper_limit = int(input(\"Enter the upper limit\"))\n",
    "rand_num = random.randint(lower_limit, upper_limit)\n",
    "count = (int)((upper_limit-lower_limit)/10)\n",
    "\n",
    "while(count>=0):\n",
    "    guess_no = int(input(\"Guess a number between\"))\n",
    "    count -= 1\n",
    "    if(rand_num == guess_no):\n",
    "        print(\"You have guessed the number correctly\")\n",
    "    else:\n",
    "        if(guess_no < rand_num):\n",
    "            print(\"Your guess is a little too less, try a little bigger\")\n",
    "            continue\n",
    "        elif(guess_no > rand_num):\n",
    "            print(\"Your guess is a little too higher, go a little less\")\n",
    "    "
   ]
  },
  {
   "cell_type": "code",
   "execution_count": null,
   "metadata": {
    "collapsed": true,
    "jupyter": {
     "outputs_hidden": true,
     "source_hidden": true
    }
   },
   "outputs": [
    {
     "name": "stdout",
     "output_type": "stream",
     "text": [
      "Try a little bigger\n",
      "8  chances remaining\n",
      "Try a little bigger\n",
      "7  chances remaining\n",
      "Try a little lesser\n",
      "6  chances remaining\n",
      "Try a little lesser\n",
      "5  chances remaining\n",
      "Try a little bigger\n",
      "4  chances remaining\n",
      "Try a little bigger\n",
      "3  chances remaining\n",
      "Try a little lesser\n",
      "2  chances remaining\n",
      "You have guessed the correct number\n"
     ]
    }
   ],
   "source": [
    "# Game: Guess the number (Using for loop)\n",
    "\n",
    "import random\n",
    "\n",
    "lower_limit = int(input(\"Enter the lower limit\"))\n",
    "upper_limit = int(input(\"Enter the upper limit\"))\n",
    "rand_num = random.randint(lower_limit, upper_limit)\n",
    "count = int((upper_limit-lower_limit)/10)\n",
    "\n",
    "for i in range(count, 0, -1):\n",
    "    guess_no = int(input(\"Guess a number\"))\n",
    "    count -= 1\n",
    "    if(guess_no == rand_num):\n",
    "        print(\"You have guessed the correct number! You won\")\n",
    "        break\n",
    "    else:\n",
    "        if(guess_no > rand_num):\n",
    "            print(\"Try a little lesser\")\n",
    "            print(count, \" chances remaining\")\n",
    "        else:\n",
    "            print(\"Try a little bigger\")\n",
    "            print(count, \" chances remaining\")\n"
   ]
  },
  {
   "cell_type": "code",
   "execution_count": 20,
   "metadata": {
    "collapsed": true,
    "jupyter": {
     "outputs_hidden": true,
     "source_hidden": true
    },
    "scrolled": true
   },
   "outputs": [
    {
     "data": {
      "text/plain": [
       "120"
      ]
     },
     "execution_count": 20,
     "metadata": {},
     "output_type": "execute_result"
    }
   ],
   "source": [
    "# Factorial Function\n",
    "\n",
    "def factorial(n):\n",
    "    fact = 1\n",
    "    if(n==0 or n==1):\n",
    "        return 1\n",
    "    else:\n",
    "        for i in range(1, n+1):\n",
    "            fact *= i # Keep in mind it's i that is being multiplies not n\n",
    "        return fact\n",
    "\n",
    "factorial(5)"
   ]
  },
  {
   "cell_type": "code",
   "execution_count": 24,
   "metadata": {
    "collapsed": true,
    "jupyter": {
     "outputs_hidden": true,
     "source_hidden": true
    }
   },
   "outputs": [
    {
     "name": "stdout",
     "output_type": "stream",
     "text": [
      "Enter a number 7\n"
     ]
    },
    {
     "name": "stdout",
     "output_type": "stream",
     "text": [
      "7 x 1 = 7\n",
      "7 x 2 = 14\n",
      "7 x 3 = 21\n",
      "7 x 4 = 28\n",
      "7 x 5 = 35\n",
      "7 x 6 = 42\n",
      "7 x 7 = 49\n",
      "7 x 8 = 56\n",
      "7 x 9 = 63\n",
      "7 x 10 = 70\n"
     ]
    }
   ],
   "source": [
    "# Printing Tables (Function)\n",
    "\n",
    "a = int(input(\"Enter a number\"))\n",
    "\n",
    "def table(n):\n",
    "    for i in range(1,11):\n",
    "        print(n, \"x\", i, \"=\", n*i)\n",
    "table(a)"
   ]
  },
  {
   "cell_type": "code",
   "execution_count": null,
   "metadata": {
    "jupyter": {
     "source_hidden": true
    }
   },
   "outputs": [],
   "source": [
    "# Game: Guess the number (Using Functions)\n",
    "\n",
    "import random\n",
    "\n",
    "\n",
    "lower_limit = int(input(\"Enter the lower limit\"))\n",
    "upper_limit = int(input(\"Enter the upper limit\"))\n",
    "count = (int)((upper_limit-lower_limit)/10)\n",
    "\n",
    "def guess_the_number(lower_limit, upper_limit, rand_num):\n",
    "    rand_num = random.randint(lower_limit, upper_limit)\n",
    "    while(count>=0):\n",
    "        guess_no = int(input(\"Guess a number between\"))\n",
    "        count -= 1\n",
    "        if(rand_num == guess_no):\n",
    "            print(\"You have guessed the number correctly\")\n",
    "        else:\n",
    "            if(guess_no < rand_num):\n",
    "                print(\"Your guess is a little too less, try a little bigger\")\n",
    "                continue\n",
    "            elif(guess_no > rand_num):\n",
    "                print(\"Your guess is a little too higher, go a little less\")\n",
    "\n",
    "guess_the_number(lower_limit, upper_limit)\n",
    "    "
   ]
  },
  {
   "cell_type": "code",
   "execution_count": null,
   "metadata": {
    "jupyter": {
     "source_hidden": true
    }
   },
   "outputs": [],
   "source": [
    "# In-built Functions\n",
    "#filter\n",
    "#map\n",
    "#lambda"
   ]
  },
  {
   "cell_type": "code",
   "execution_count": null,
   "metadata": {},
   "outputs": [],
   "source": []
  }
 ],
 "metadata": {
  "kernelspec": {
   "display_name": "Python 3 (ipykernel)",
   "language": "python",
   "name": "python3"
  },
  "language_info": {
   "codemirror_mode": {
    "name": "ipython",
    "version": 3
   },
   "file_extension": ".py",
   "mimetype": "text/x-python",
   "name": "python",
   "nbconvert_exporter": "python",
   "pygments_lexer": "ipython3",
   "version": "3.12.1"
  }
 },
 "nbformat": 4,
 "nbformat_minor": 4
}

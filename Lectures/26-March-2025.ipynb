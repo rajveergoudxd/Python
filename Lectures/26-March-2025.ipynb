{
 "cells": [
  {
   "cell_type": "code",
   "execution_count": null,
   "metadata": {},
   "outputs": [
    {
     "name": "stdout",
     "output_type": "stream",
     "text": [
      "['Hello', 'World', 'Python']\n",
      "Python World Hello\n",
      "18\n",
      "18\n"
     ]
    }
   ],
   "source": [
    "# Reversing words in a String\n",
    "\n",
    "s = \"Hello World Python\"\n",
    "list1 = s.split(\" \")\n",
    "print(list1)\n",
    "s1 = \"\"\n",
    "\n",
    "for i in range(len(list1)):\n",
    "    s1 += list1[len(list1)-1-i]\n",
    "    if (i<len(list1)-1):\n",
    "        s1+= \" \"\n",
    "\n",
    "\n",
    "print(s1)\n",
    "print(len(s))\n",
    "print(len(s1))"
   ]
  },
  {
   "cell_type": "code",
   "execution_count": null,
   "metadata": {},
   "outputs": [
    {
     "name": "stdout",
     "output_type": "stream",
     "text": [
      "It's an Anagram\n"
     ]
    }
   ],
   "source": [
    "# Anagram Problem\n",
    "\n",
    "# Given Strings\n",
    "s1 = \"listen\"\n",
    "s2 = \"silent\"\n",
    "\n",
    "# Conditions of Anagrams\n",
    "# 1. Length should be same\n",
    "# 2. count for every character should be same\n",
    "\n",
    "# Solution -\n",
    "\n",
    "if (sorted(s1) == sorted(s2)): # Sorted method sorts alphabets\n",
    "    print(\"It's an Anagram\")\n",
    "else: \n",
    "    print(\"It's not an Anagram\")"
   ]
  },
  {
   "cell_type": "code",
   "execution_count": 3,
   "metadata": {},
   "outputs": [
    {
     "ename": "NameError",
     "evalue": "name 'expand_around_center' is not defined",
     "output_type": "error",
     "traceback": [
      "\u001b[0;31m---------------------------------------------------------------------------\u001b[0m",
      "\u001b[0;31mNameError\u001b[0m                                 Traceback (most recent call last)",
      "Cell \u001b[0;32mIn[3], line 12\u001b[0m\n\u001b[1;32m      8\u001b[0m     \u001b[38;5;28mprint\u001b[39m(s)\n\u001b[1;32m     11\u001b[0m longest \u001b[38;5;241m=\u001b[39m \u001b[38;5;124m\"\u001b[39m\u001b[38;5;124m\"\u001b[39m\n\u001b[0;32m---> 12\u001b[0m odd_pallindrone \u001b[38;5;241m=\u001b[39m  \u001b[43mexpand_around_center\u001b[49m(s, i, i)\n\u001b[1;32m     13\u001b[0m even_pallindrome \u001b[38;5;241m=\u001b[39m expand_around_center(s, i, i\u001b[38;5;241m+\u001b[39m\u001b[38;5;241m1\u001b[39m)\n\u001b[1;32m     15\u001b[0m longest \u001b[38;5;241m=\u001b[39m \u001b[38;5;28mmax\u001b[39m(longest, odd_pallindrone, even_pallindrome, key\u001b[38;5;241m=\u001b[39m\u001b[38;5;28mlen\u001b[39m)\n",
      "\u001b[0;31mNameError\u001b[0m: name 'expand_around_center' is not defined"
     ]
    }
   ],
   "source": [
    "# Pallindrome Problem\n",
    "\n",
    "# Given String\n",
    "s = \"babad\" \n",
    "\n",
    "# If the string length is 1 or shorter\n",
    "if (len(s)<=1):\n",
    "    print(s)\n",
    "\n",
    "\n",
    "longest = \"\"\n",
    "odd_pallindrone =  expand_around_center(s, i, i)\n",
    "even_pallindrome = expand_around_center(s, i, i+1)\n",
    "\n",
    "longest = max(longest, odd_pallindrone, even_pallindrome, key=len)\n",
    "\n"
   ]
  }
 ],
 "metadata": {
  "kernelspec": {
   "display_name": "Python 3",
   "language": "python",
   "name": "python3"
  },
  "language_info": {
   "codemirror_mode": {
    "name": "ipython",
    "version": 3
   },
   "file_extension": ".py",
   "mimetype": "text/x-python",
   "name": "python",
   "nbconvert_exporter": "python",
   "pygments_lexer": "ipython3",
   "version": "3.12.1"
  }
 },
 "nbformat": 4,
 "nbformat_minor": 2
}

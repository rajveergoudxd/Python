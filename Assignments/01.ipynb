{
 "cells": [
  {
   "cell_type": "markdown",
   "metadata": {},
   "source": [
    "# Python Assignment 1\n",
    "\n",
    "## If else statements\n",
    "\n",
    "### Beginner level problems :\n",
    "1. Odd or Even Number\n",
    "2. Positive, Negative, or Zero\n",
    "3. Greatest of Two Numbers\n",
    "4. Check Divisibility by 3 and 5\n",
    "5. Check Leap Year"
   ]
  },
  {
   "cell_type": "markdown",
   "metadata": {},
   "source": [
    "### Solutions :-"
   ]
  },
  {
   "cell_type": "code",
   "execution_count": null,
   "metadata": {},
   "outputs": [
    {
     "name": "stdout",
     "output_type": "stream",
     "text": [
      "It's an Odd Number\n"
     ]
    }
   ],
   "source": [
    "# Question 1 : Odd or Even Number\n",
    "\n",
    "user_input = int(input(\"Enter a number : \"))\n",
    "\n",
    "if(user_input%2 == 0):\n",
    "    print(\"It's an Even Number\")\n",
    "else:\n",
    "    print(\"It's an Odd Number\")"
   ]
  },
  {
   "cell_type": "code",
   "execution_count": 4,
   "metadata": {},
   "outputs": [
    {
     "name": "stdout",
     "output_type": "stream",
     "text": [
      "It's an negative number\n"
     ]
    }
   ],
   "source": [
    "# Question 2 : Positive, Negative, or Zero\n",
    "\n",
    "user_input = int(input(\"Enter a number : \"))\n",
    "\n",
    "if(user_input > 0):\n",
    "    print(\"It's an positive number\")\n",
    "elif(user_input<0):\n",
    "    print(\"It's an negative number\")\n",
    "else:\n",
    "    print(\"The number you have entered is Zero (0)\")"
   ]
  },
  {
   "cell_type": "code",
   "execution_count": 6,
   "metadata": {},
   "outputs": [
    {
     "name": "stdout",
     "output_type": "stream",
     "text": [
      "4  is the greater number\n"
     ]
    }
   ],
   "source": [
    "# Question 3 : Greatest of Two Numbers\n",
    "\n",
    "num1 = int(input(\"Enter the first number : \"))\n",
    "num2 = int(input(\"Enter the second number : \"))\n",
    "\n",
    "if(num1 > num2):\n",
    "    print(num1, \" is the greater number\")\n",
    "elif(num2 > num1):\n",
    "    print(num2, \" is the greater number\")\n",
    "else:\n",
    "    print(\"Both the number are equal\")\n"
   ]
  },
  {
   "cell_type": "code",
   "execution_count": 8,
   "metadata": {},
   "outputs": [
    {
     "name": "stdout",
     "output_type": "stream",
     "text": [
      "Divisible by both\n"
     ]
    }
   ],
   "source": [
    "# Question 4 : Check the divisibility by 3 and 5\n",
    "\n",
    "in_num = int(input(\"Enter a number : \"))\n",
    "\n",
    "if(in_num % 3 == 0 and in_num % 5 == 0):\n",
    "    print(\"Divisible by both\")\n",
    "else:\n",
    "    print(\"Not divisible by both\")"
   ]
  },
  {
   "cell_type": "code",
   "execution_count": 10,
   "metadata": {},
   "outputs": [
    {
     "name": "stdout",
     "output_type": "stream",
     "text": [
      "It's an leap year\n"
     ]
    }
   ],
   "source": [
    "# Question 5 : Check Leap Year\n",
    "\n",
    "input_year = int(input(\"Enter the year : \"))\n",
    "\n",
    "if (input_year % 4 == 0):\n",
    "    if(input_year % 100 == 0):\n",
    "        if(input_year % 400 == 0):\n",
    "            print(\"It's an leap year\")\n",
    "    else:\n",
    "        print(\"It's an leap year\")\n",
    "else:\n",
    "    print(\"It's not an leap year\")"
   ]
  },
  {
   "cell_type": "markdown",
   "metadata": {},
   "source": [
    "### Intermediate Level Problems :\n",
    "6. Grade Classification\n",
    "7. Vowel or Consonant\n",
    "8. Temperature Conversion\n",
    "9. Day of the Week"
   ]
  },
  {
   "cell_type": "markdown",
   "metadata": {},
   "source": [
    "### Solutions :-"
   ]
  },
  {
   "cell_type": "code",
   "execution_count": null,
   "metadata": {},
   "outputs": [
    {
     "name": "stdout",
     "output_type": "stream",
     "text": [
      "You've scored F grade\n",
      "You're Failed. Try harder next time\n"
     ]
    }
   ],
   "source": [
    "# Question 6 : Grade Classification\n",
    "\n",
    "marks = int(input(\"Enter the total marks you've scored (Out of 100) : \"))\n",
    "\n",
    "if(marks >= 90):\n",
    "    print(\"You've scored A grade.\")\n",
    "elif(70 <= marks < 90):\n",
    "    print(\"You've scored B grade.\")\n",
    "elif(50 <= marks < 70):\n",
    "    print(\"You've scored C grade.\")\n",
    "else:\n",
    "    print(\"You've scored F grade.\")"
   ]
  },
  {
   "cell_type": "code",
   "execution_count": null,
   "metadata": {},
   "outputs": [
    {
     "name": "stdout",
     "output_type": "stream",
     "text": [
      "You've entered a vowel.\n"
     ]
    }
   ],
   "source": [
    "# Question 7 : Vowel or Consonant\n",
    "\n",
    "charin = input(\"Enter a character : \")[0]\n",
    "\n",
    "if(charin == 'a' or charin == 'e' or charin == 'i' or charin == 'o' or charin == 'u'):\n",
    "    print(\"You've entered a vowel.\")\n",
    "else:\n",
    "    print(\"You've entered an consonant.\")\n",
    "\n",
    "# Can use list iteration too, but since the question is given under if else section of the assignment, I've used if else "
   ]
  },
  {
   "cell_type": "code",
   "execution_count": null,
   "metadata": {},
   "outputs": [
    {
     "name": "stdout",
     "output_type": "stream",
     "text": [
      "7.22 C\n"
     ]
    }
   ],
   "source": [
    "# Question 8 : Temperature Conversion\n",
    "\n",
    "temp_in = input(\"Enter the temperature right now : \")\n",
    "\n",
    "# Seperating the magnitude from it's unit\n",
    "magnitude = int(temp_in[0:-1].strip())\n",
    "\n",
    "if(temp_in[-1] == 'F'):\n",
    "    celcius = (magnitude - 32)*(5/9)\n",
    "    print(round(celcius, 2), 'C')\n",
    "elif(temp_in[-1] == 'C'):\n",
    "    fahrenheit = (magnitude * (9/5)) + 32\n",
    "    print(round(fahrenheit, 2), 'F')\n",
    "else:\n",
    "    print(\"You've entered the wrong temperature value.\")\n",
    "    "
   ]
  },
  {
   "cell_type": "code",
   "execution_count": 41,
   "metadata": {},
   "outputs": [
    {
     "name": "stdout",
     "output_type": "stream",
     "text": [
      "You've entered the wrong number.\n"
     ]
    }
   ],
   "source": [
    "# Question 9 : Day of the Week\n",
    "\n",
    "in_num = int(input(\"Enter a number (1 to 7)\"))\n",
    "\n",
    "if(in_num == 1):\n",
    "    print(\"Monday\")\n",
    "elif(in_num == 2):\n",
    "    print(\"Tuesday\")\n",
    "elif(in_num == 3):\n",
    "    print(\"Wednesday\")\n",
    "elif(in_num == 4):\n",
    "    print(\"Thursday\")\n",
    "elif(in_num == 5):\n",
    "    print(\"Friday\")\n",
    "elif(in_num == 6):\n",
    "    print(\"Saturday\")\n",
    "elif(in_num == 7):\n",
    "    print(\"Sunday\")\n",
    "else:\n",
    "    print(\"You've entered the wrong number.\")"
   ]
  },
  {
   "cell_type": "markdown",
   "metadata": {},
   "source": [
    "### Advanced Level Problems\n",
    "\n",
    "10. Number Range Checker\n",
    "11. Discount Calculator\n",
    "12. Find the largest of Three Numbers\n",
    "13. BMI Calculator\n",
    "14. Login System Simulation"
   ]
  },
  {
   "cell_type": "markdown",
   "metadata": {},
   "source": [
    "### Solutions :-"
   ]
  },
  {
   "cell_type": "code",
   "execution_count": 47,
   "metadata": {},
   "outputs": [
    {
     "name": "stdout",
     "output_type": "stream",
     "text": [
      "False\n"
     ]
    }
   ],
   "source": [
    "# Number Range Checker\n",
    "\n",
    "numch = int(input(\"Enter a number between 10 and 20\"))\n",
    "\n",
    "if(10<= numch <= 20):\n",
    "    print(True)\n",
    "else:\n",
    "    print(False)"
   ]
  },
  {
   "cell_type": "code",
   "execution_count": null,
   "metadata": {},
   "outputs": [
    {
     "name": "stdout",
     "output_type": "stream",
     "text": [
      "$ 50.89\n"
     ]
    }
   ],
   "source": [
    "# Discount Calculator\n",
    "\n",
    "principal = float(input(\"Enter the principle amount : $\"))\n",
    "final_val = 0\n",
    "\n",
    "if(principal >= 100):\n",
    "    final_val = principal - ((20/100)*principal)\n",
    "elif(50 < principal < 100):\n",
    "    final_val = principal - ((10/100)*principal)\n",
    "elif(principal < 50):\n",
    "    final_val = principal\n",
    "else:\n",
    "    print(\"You've entered incorrect value.\")\n",
    "\n",
    "print('$',round(final_val, 2))"
   ]
  },
  {
   "cell_type": "code",
   "execution_count": null,
   "metadata": {},
   "outputs": [
    {
     "name": "stdout",
     "output_type": "stream",
     "text": [
      "6  is the greatest number\n"
     ]
    }
   ],
   "source": [
    "# Question 12 : Find the largest of Three Numbers\n",
    "\n",
    "int1 = int(input(\"Enter the first number : \"))\n",
    "int2 = int(input(\"Enter the second number : \"))\n",
    "int3 = int(input(\"Enter the third number : \"))\n",
    "\n",
    "if(int1 > int2 and int1 > int3):\n",
    "    print(int1, \"is the greatest number\")\n",
    "elif(int2 > int3 and int2 > int1):\n",
    "    print(int2, \"is the greatest number\")\n",
    "else:\n",
    "    print(int3, \"is the greatest number\")"
   ]
  },
  {
   "cell_type": "code",
   "execution_count": 65,
   "metadata": {},
   "outputs": [
    {
     "name": "stdout",
     "output_type": "stream",
     "text": [
      "Obese\n"
     ]
    }
   ],
   "source": [
    "# Question 13 : BMI Calculator\n",
    "\n",
    "height = float(input(\"Enter your height(m) : \"))\n",
    "weight = float(input(\"Enter your weight(Kg) : \"))\n",
    "\n",
    "BMI = round((weight/(height*height)), 1)\n",
    "\n",
    "if(BMI < 18.5):\n",
    "    print(\"Underweight\")\n",
    "elif(18.5 <= BMI < 24.9):\n",
    "    print(\"Normal weight\")\n",
    "elif(25 <= BMI < 29.9):\n",
    "    print(\"Overweight\")\n",
    "elif(BMI >= 30):\n",
    "    print(\"Obese\")\n",
    "else:\n",
    "    print(\"Incorrect values of height and weight\")"
   ]
  },
  {
   "cell_type": "code",
   "execution_count": null,
   "metadata": {},
   "outputs": [
    {
     "name": "stdout",
     "output_type": "stream",
     "text": [
      "Login successful\n"
     ]
    }
   ],
   "source": [
    "# Question 14 : Login System Simulation\n",
    "\n",
    "# Preset values as given in the question\n",
    "username = \"admin\"\n",
    "password = \"password123\"\n",
    "\n",
    "user_in = input(\"Enter your username : \")\n",
    "pass_in = input(\"Enter your password : \")\n",
    "\n",
    "if(user_in == username and pass_in == password):\n",
    "    print(\"Login successful\")\n",
    "else:\n",
    "    print(\"Invalid username or password\")\n",
    "\n",
    "# We can generalize a little bit too by letting User set the username and password first."
   ]
  },
  {
   "cell_type": "markdown",
   "metadata": {},
   "source": [
    "### Bonus Challenge \n",
    "15. Password Strength Checker"
   ]
  },
  {
   "cell_type": "code",
   "execution_count": null,
   "metadata": {},
   "outputs": [
    {
     "name": "stdout",
     "output_type": "stream",
     "text": [
      "At least one character should be lowercase\n"
     ]
    }
   ],
   "source": [
    "# Question 15 : Password Strength Checker\n",
    "\n",
    "passwrd = input(\"Enter the password you wanna check the strength of : \")\n",
    "\n",
    "if(len(passwrd) < 8):\n",
    "    print(\"Your password should be at least 8 character long.\")\n",
    "elif(passwrd == passwrd.lower()):\n",
    "    print(\"At least one character should be uppercase\")\n",
    "elif(passwrd == passwrd.upper()):\n",
    "    print(\"At least one character should be lowercase\")\n",
    "elif()\n"
   ]
  },
  {
   "cell_type": "markdown",
   "metadata": {},
   "source": [
    "## While Loop\n",
    "### Problems :-\n",
    "1. Print Numbers from 1 to 10\n",
    "2. Sum of First N Natural Numbers\n",
    "3. Print Even Numbers from 1 to 20\n",
    "4. Find Factorial of a Number\n",
    "5. Count down from 10 to 1\n",
    "6. Guessing Game\n",
    "7. Print Fibonacci Series\n",
    "8. Find the largest Number in a list\n",
    "9. Power of a Number"
   ]
  },
  {
   "cell_type": "code",
   "execution_count": null,
   "metadata": {},
   "outputs": [
    {
     "name": "stdout",
     "output_type": "stream",
     "text": [
      "1\n",
      "2\n",
      "3\n",
      "4\n",
      "5\n",
      "6\n",
      "7\n",
      "8\n",
      "9\n",
      "10\n"
     ]
    }
   ],
   "source": [
    "# Question 1 : Print Numbers from 1 to 10\n",
    "\n",
    "n = 1\n",
    "while(n<=10):\n",
    "    print(n)\n",
    "    n += 1"
   ]
  },
  {
   "cell_type": "code",
   "execution_count": null,
   "metadata": {},
   "outputs": [
    {
     "name": "stdout",
     "output_type": "stream",
     "text": [
      "10\n"
     ]
    }
   ],
   "source": [
    "# Question 2 : Sum of First N Natural Numbers\n",
    "\n",
    "n = int(input(\"Enter the limit upto which you want the sum of natural numbers : \"))\n",
    "\n",
    "start = 1\n",
    "sum = 0\n",
    "\n",
    "while(start<= n):\n",
    "    sum += start\n",
    "    start += 1\n",
    "\n",
    "print(sum)"
   ]
  },
  {
   "cell_type": "code",
   "execution_count": 2,
   "metadata": {},
   "outputs": [
    {
     "name": "stdout",
     "output_type": "stream",
     "text": [
      "0\n",
      "2\n",
      "4\n",
      "6\n",
      "8\n",
      "10\n",
      "12\n",
      "14\n",
      "16\n",
      "18\n",
      "20\n"
     ]
    }
   ],
   "source": [
    "# Question 3 : Print Even Numbers from 1 to 20\n",
    "\n",
    "n = 0\n",
    "\n",
    "while(n<=20):\n",
    "    if(n%2 == 0):\n",
    "        print(n)\n",
    "    n+=1\n",
    "\n",
    "\n"
   ]
  },
  {
   "cell_type": "code",
   "execution_count": 3,
   "metadata": {},
   "outputs": [
    {
     "name": "stdout",
     "output_type": "stream",
     "text": [
      "720\n"
     ]
    }
   ],
   "source": [
    "# Question 4 : Find Factorial of a Number\n",
    "\n",
    "n = int(input(\"Enter the number you want to find a factorial of : \"))   \n",
    "\n",
    "factorial = 1\n",
    "while (n >= 1):\n",
    "    factorial *= n\n",
    "    n-=1\n",
    "\n",
    "print(factorial)\n"
   ]
  },
  {
   "cell_type": "code",
   "execution_count": null,
   "metadata": {},
   "outputs": [
    {
     "name": "stdout",
     "output_type": "stream",
     "text": [
      "10\n",
      "9\n",
      "8\n",
      "7\n",
      "6\n",
      "5\n",
      "4\n",
      "3\n",
      "2\n",
      "1\n"
     ]
    }
   ],
   "source": [
    "# Question 5 : Count down from 10 to 1\n",
    "\n",
    "import time\n",
    "\n",
    "n = 10\n",
    "while (n>=1):\n",
    "    print(n)\n",
    "    time.sleep(1)\n",
    "    n-=1\n",
    "\n",
    "# Used time module here to make it look like a real countdown by adding a sleep time of 1 second using sleep function of time module"
   ]
  },
  {
   "cell_type": "code",
   "execution_count": null,
   "metadata": {},
   "outputs": [
    {
     "name": "stdout",
     "output_type": "stream",
     "text": [
      "Try a little lower this time\n",
      "9  chances remaining\n",
      "Try a little lower this time\n",
      "8  chances remaining\n",
      "Try a little lower this time\n",
      "7  chances remaining\n",
      "Correct guess! You won.\n"
     ]
    }
   ],
   "source": [
    "# Question 6 : Guessing Game\n",
    "\n",
    "import random\n",
    "\n",
    "random_num = random.randint(1,100)\n",
    "chances = 10\n",
    "\n",
    "while (chances > 0):\n",
    "    guess = int(input(\"Guess the number: \"))\n",
    "    if(guess == random_num):\n",
    "        print(\"Correct guess! You won.\")\n",
    "        break\n",
    "    elif(guess > random_num):\n",
    "        print(\"Try a little lower this time\")\n",
    "        chances -= 1\n",
    "        print(chances, \" chances remaining\")\n",
    "    elif(guess < random_num):\n",
    "        print(\"Try a little larger this time\")\n",
    "        chances -= 1\n",
    "        print(chances, \" chances remaining.\")\n",
    "    else: \n",
    "        print(\"Invalid number, try again.\")"
   ]
  },
  {
   "cell_type": "code",
   "execution_count": null,
   "metadata": {},
   "outputs": [
    {
     "name": "stdout",
     "output_type": "stream",
     "text": [
      "1\n",
      "1\n",
      "2\n",
      "3\n",
      "5\n",
      "8\n",
      "13\n",
      "21\n",
      "34\n",
      "55\n",
      "89\n"
     ]
    }
   ],
   "source": [
    "# Question 7 : Fibonacci Series\n",
    "\n",
    "n = int(input(\"Enter the nth term of Fibonacci : \"))\n",
    "\n",
    "first = 1\n",
    "second = 1\n",
    "print(first)\n",
    "print(second)\n",
    "counter = 1\n",
    "while(counter <= n):\n",
    "    next = first + second\n",
    "    print(next)\n",
    "    first = second\n",
    "    second = next\n",
    "    counter +=1\n",
    "\n",
    "# Can be even more generalized."
   ]
  },
  {
   "cell_type": "code",
   "execution_count": 11,
   "metadata": {},
   "outputs": [
    {
     "name": "stdout",
     "output_type": "stream",
     "text": [
      "45\n"
     ]
    }
   ],
   "source": [
    "# Question 8 : Find the largest number in a list\n",
    "\n",
    "# Taking a list of integers from the user.\n",
    "n = int(input(\"Enter the number of items in your list : \"))\n",
    "count = 0\n",
    "l1 = []\n",
    "while(count<n):\n",
    "    l1.append(int(input(\"Enter element : \")))\n",
    "    count += 1\n",
    "\n",
    "# Finding the largest number\n",
    "largest = 0\n",
    "j = 0\n",
    "while (j < len(l1)-1):\n",
    "    largest = max(l1[j], l1[j+1], largest)\n",
    "    j+=1\n",
    "print(largest)"
   ]
  },
  {
   "cell_type": "code",
   "execution_count": 16,
   "metadata": {},
   "outputs": [
    {
     "name": "stdout",
     "output_type": "stream",
     "text": [
      "125\n"
     ]
    }
   ],
   "source": [
    "# Question 9 : Power of a Number\n",
    "\n",
    "base = int(input(\"Enter the base of the number : \"))\n",
    "exponent = int(input(\"Enter the exponent of your number : \"))\n",
    "power = 1\n",
    "while(exponent >= 1):\n",
    "    power *= base\n",
    "    exponent -= 1\n",
    "print(power)"
   ]
  }
 ],
 "metadata": {
  "kernelspec": {
   "display_name": "base",
   "language": "python",
   "name": "python3"
  },
  "language_info": {
   "codemirror_mode": {
    "name": "ipython",
    "version": 3
   },
   "file_extension": ".py",
   "mimetype": "text/x-python",
   "name": "python",
   "nbconvert_exporter": "python",
   "pygments_lexer": "ipython3",
   "version": "3.12.7"
  }
 },
 "nbformat": 4,
 "nbformat_minor": 2
}
